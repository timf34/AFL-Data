{
 "cells": [
  {
   "cell_type": "markdown",
   "metadata": {},
   "source": [
    "# Dublin AFL Preprocessing\n",
    "\n",
    "This notebook contains the code to prepare the AFL data for training, processing it from full videos hosted on S3 in Sydney, to frames that only contain the ball hosted in Dublin.\n",
    "\n",
    "We assume that we have a `.xml` file with the annotations already uploaded to S3"
   ]
  },
  {
   "cell_type": "code",
   "execution_count": 9,
   "metadata": {},
   "outputs": [
    {
     "name": "stdout",
     "output_type": "stream",
     "text": [
      "Let's begin:)\n"
     ]
    }
   ],
   "source": [
    "print(\"Let's begin:)\")##"
   ]
  },
  {
   "cell_type": "code",
   "execution_count": null,
   "metadata": {},
   "outputs": [],
   "source": [
    "# Install libraries\n",
    "!pip install imageio[pyav]\n",
    "!pip install imageio[ffmpeg]\n",
    "!pip install opencv-python"
   ]
  },
  {
   "cell_type": "code",
   "execution_count": 10,
   "metadata": {},
   "outputs": [],
   "source": [
    "# Import libraries\n",
    "import boto3\n",
    "import cv2\n",
    "import imageio\n",
    "import os\n",
    "import subprocess\n",
    "\n",
    "from typing import List, Dict\n",
    "from sagemaker_utils import *"
   ]
  },
  {
   "cell_type": "code",
   "execution_count": 11,
   "metadata": {
    "pycharm": {
     "is_executing": true
    }
   },
   "outputs": [],
   "source": [
    "# Define constants\n",
    "AUS_AFL_BUCKET: str = \"australia-fov/\"\n",
    "DUB_AFL_BUCKET: str = \"dublin-afl-preprocessed/\"\n",
    "\n",
    "if os.name == 'nt':\n",
    "    TMP_DIR: str = \"test-marvel\"\n",
    "else:\n",
    "    TMP_DIR: str = \"tmp\"\n",
    "\n",
    "VIDEOS_TO_PROCESS: List[str] = [\n",
    "    \"marvel/marvel-fov-3/20_08_2023/time_04_09_06_date_20_08_2023_.avi\",\n",
    "    # \"marvel-fov-1\\\\20_08_2023\\\\marvel_1_time_04_09_04_date_20_08_2023_.avi\",\n",
    "    # \"marvel-fov-8\\\\26_08_2023\\\\marvel_8_time_09_09_04_date_27_08_2023_.avi\"\n",
    "]"
   ]
  },
  {
   "cell_type": "markdown",
   "metadata": {},
   "source": [
    "First, let's inspect our buckets"
   ]
  },
  {
   "cell_type": "code",
   "execution_count": null,
   "metadata": {},
   "outputs": [],
   "source": [
    "# Ensure that each video path exists on s3\n",
    "s3 = boto3.client('s3')\n",
    "\n",
    "print(\"Checking video paths exist on S3...\")\n",
    "for video_path in VIDEOS_TO_PROCESS:\n",
    "    try:\n",
    "        s3.head_object(Bucket=AUS_AFL_BUCKET, Key=video_path)\n",
    "        print(f\"Video {video_path} exists on S3\")\n",
    "    except:\n",
    "        print(f\"Video {video_path} does not exist on S3!\")"
   ]
  },
  {
   "cell_type": "markdown",
   "metadata": {},
   "source": [
    "## Utility functions\n",
    "\n",
    "Next, we define a bunch of helper function"
   ]
  },
  {
   "cell_type": "markdown",
   "metadata": {},
   "source": [
    "Next, we'll define functions that we'll use to process the videos. We will only operate on one video at a time so we don't need too much storage space locally."
   ]
  },
  {
   "cell_type": "code",
   "execution_count": 11,
   "metadata": {},
   "outputs": [],
   "source": [
    "def clip_video_opencv(video_path: str, output_dir: str, clip_length: int = 60) -> None:\n",
    "    \"\"\"\n",
    "    Clip a video into multiple segments of the given length using OpenCV.\n",
    "\n",
    "    Parameters:\n",
    "    - video_path: Path to the video file.\n",
    "    - output_dir: Directory to store the clipped videos.\n",
    "    - clip_length: Duration of each clip in seconds (default is 60 seconds).\n",
    "    \"\"\"\n",
    "\n",
    "    # Open the video using OpenCV\n",
    "    cap = cv2.VideoCapture(video_path)\n",
    "    fps = int(cap.get(cv2.CAP_PROP_FPS))\n",
    "    total_frames = int(cap.get(cv2.CAP_PROP_FRAME_COUNT))\n",
    "\n",
    "    # Calculate the number of frames needed for the specified clip length\n",
    "    frames_per_clip = clip_length * fps\n",
    "\n",
    "    # Create the output directory if it doesn't exist\n",
    "    ensure_directory_exists(output_dir)\n",
    "\n",
    "    # Get the video file name without the extension\n",
    "    file_name = os.path.splitext(os.path.basename(video_path))[0]\n",
    "\n",
    "    # Get the marvel caemra number\n",
    "    camera_number = [string[-1] for string in os.path.split(video_path) if 'marvel-fov' in string][0]\n",
    "\n",
    "    clip_num = 0\n",
    "    while True:\n",
    "        output_file = os.path.join(output_dir, f\"marvel_{camera_number}_{file_name}{clip_num}.mp4\")\n",
    "\n",
    "        # Define video writer for output\n",
    "        fourcc = cv2.VideoWriter_fourcc(*'mp4v')\n",
    "        out = cv2.VideoWriter(output_file, fourcc, fps, (int(cap.get(3)), int(cap.get(4))))\n",
    "\n",
    "        # Extract frames and write to new video\n",
    "        for _ in range(frames_per_clip):\n",
    "            ret, frame = cap.read()\n",
    "            if not ret:\n",
    "                break\n",
    "            out.write(frame)\n",
    "\n",
    "        # Release the current writer\n",
    "        out.release()\n",
    "\n",
    "        # If there were fewer frames left than half the desired clip length, we stop\n",
    "        if ret and (total_frames - clip_num * frames_per_clip) < (0.5 * clip_length * fps):\n",
    "            os.remove(output_file)\n",
    "            break\n",
    "\n",
    "        clip_num += 1\n",
    "\n",
    "        # If we've reached the end of the video\n",
    "        if not ret:\n",
    "            break\n",
    "\n",
    "    # Release video capture\n",
    "    cap.release()\n"
   ]
  },
  {
   "cell_type": "code",
   "execution_count": 7,
   "metadata": {
    "pycharm": {
     "is_executing": true
    }
   },
   "outputs": [],
   "source": [
    "def extract_frames_from_video_cv2(file_path: str, fps: int = 30) -> None:\n",
    "    \"\"\"Given a video file path, extract frames using OpenCV (imageio is too slow for this).\"\"\"\n",
    "\n",
    "    # Create a directory called \"frames\"\n",
    "    file_name_without_extension = os.path.splitext(os.path.basename(file_path))[0]\n",
    "    file_dir = os.path.dirname(file_path)\n",
    "\n",
    "    frames_dir = create_directory(file_dir, directory_name=f'{file_name_without_extension}')\n",
    "\n",
    "    if count_files_with_extension(frames_dir, '.png') > 1780:\n",
    "        print(f'Frames already exist in {frames_dir}')\n",
    "        return\n",
    "\n",
    "    # Ensure the video path exists\n",
    "    if not os.path.exists(file_path):\n",
    "        raise FileNotFoundError(f'Video file not found at {file_path}')\n",
    "\n",
    "    # Use OpenCV to read the video and save frames\n",
    "    cap = cv2.VideoCapture(file_path)\n",
    "    video_fps = int(cap.get(cv2.CAP_PROP_FPS))\n",
    "\n",
    "    # We'll only save every nth frame to match the desired FPS (fps parameter)\n",
    "    n = int(video_fps / fps)\n",
    "\n",
    "    frame_num = 0\n",
    "    while True:\n",
    "        ret, frame = cap.read()\n",
    "        if not ret:\n",
    "            break\n",
    "        if frame_num % n == 0:\n",
    "            frame_file_path = os.path.join(frames_dir, f\"frame_{frame_num // n:07d}.png\")\n",
    "            cv2.imwrite(frame_file_path, frame)\n",
    "        frame_num += 1\n",
    "\n",
    "    cap.release()\n",
    "    print(f\"Frames extracted to {frames_dir}\")"
   ]
  },
  {
   "cell_type": "code",
   "execution_count": 6,
   "metadata": {},
   "outputs": [],
   "source": [
    "import os\n",
    "import boto3\n",
    "\n",
    "AUS_AFL_BUCKET = \"australia-fov\"\n",
    "\n",
    "def download_video_from_s3(video_path: str):\n",
    "    \"\"\"\n",
    "    Download specified videos from the S3 bucket to local storage.\n",
    "    If they already exist, ensure they have a reasonable size.\n",
    "\n",
    "    Parameters:\n",
    "    - video_path: Path of video to process.\n",
    "    \"\"\"\n",
    "    # Create a S3 client\n",
    "    s3 = boto3.client('s3')\n",
    "\n",
    "    local_path = video_path.replace(\"\\\\\", \"/\")\n",
    "\n",
    "    # Ensure the directory structure exists for the local file\n",
    "    if not os.path.exists(os.path.dirname(local_path)):\n",
    "        os.makedirs(os.path.dirname(local_path))\n",
    "\n",
    "    # Check if the file already exists in local storage\n",
    "    if os.path.exists(local_path):\n",
    "        # Check if file size is greater than 10 KB\n",
    "        if os.path.getsize(local_path) > 10 * 1024:\n",
    "            print(f\"{video_path} already exists in local storage and has a valid size!\")\n",
    "            return\n",
    "        else:\n",
    "            print(f\"{video_path} exists but is too small. Re-downloading...\")\n",
    "            os.remove(local_path)\n",
    "\n",
    "    print(f\"Downloading {video_path}...\")\n",
    "    try:\n",
    "        # Download the file\n",
    "        with open(local_path, 'wb') as f:\n",
    "            s3.download_fileobj(AUS_AFL_BUCKET, video_path, f)\n",
    "        print(f\"{video_path} downloaded successfully!\")\n",
    "        print(f\"File size in bytes: {get_file_size_in_bytes(local_path)}\")\n",
    "    except Exception as e:\n",
    "        print(f\"Error downloading {video_path}: {e}\")\n",
    "        if os.path.exists(local_path):\n",
    "            os.remove(local_path)\n"
   ]
  },
  {
   "cell_type": "code",
   "execution_count": 7,
   "metadata": {},
   "outputs": [],
   "source": [
    "# def remove_frames_without_ball(frame_dir: str)"
   ]
  },
  {
   "cell_type": "markdown",
   "metadata": {},
   "source": [
    "## Processing time"
   ]
  },
  {
   "cell_type": "code",
   "execution_count": 8,
   "metadata": {},
   "outputs": [
    {
     "name": "stdout",
     "output_type": "stream",
     "text": [
      "Found 1 files with ending .mp4 in test-marvel\n",
      "Creating directory at test-marvel\\1\n"
     ]
    },
    {
     "ename": "KeyboardInterrupt",
     "evalue": "",
     "output_type": "error",
     "traceback": [
      "\u001B[1;31m---------------------------------------------------------------------------\u001B[0m",
      "\u001B[1;31mKeyboardInterrupt\u001B[0m                         Traceback (most recent call last)",
      "Input \u001B[1;32mIn [8]\u001B[0m, in \u001B[0;36m<cell line: 1>\u001B[1;34m()\u001B[0m\n\u001B[0;32m      1\u001B[0m \u001B[38;5;28;01mfor\u001B[39;00m video_path \u001B[38;5;129;01min\u001B[39;00m VIDEOS_TO_PROCESS:\n\u001B[0;32m      2\u001B[0m     \u001B[38;5;66;03m# Download the videos to local storage, but check if they exist already first\u001B[39;00m\n\u001B[0;32m      3\u001B[0m     \u001B[38;5;66;03m# download_video_from_s3(video_path)\u001B[39;00m\n\u001B[1;32m   (...)\u001B[0m\n\u001B[0;32m      7\u001B[0m \n\u001B[0;32m      8\u001B[0m     \u001B[38;5;66;03m# Extract frames from clipped videos\u001B[39;00m\n\u001B[0;32m      9\u001B[0m     \u001B[38;5;28;01mfor\u001B[39;00m video \u001B[38;5;129;01min\u001B[39;00m find_files_with_ending(TMP_DIR, \u001B[38;5;124m'\u001B[39m\u001B[38;5;124m.mp4\u001B[39m\u001B[38;5;124m'\u001B[39m):\n\u001B[1;32m---> 10\u001B[0m         \u001B[43mextract_frames_from_video_cv2\u001B[49m\u001B[43m(\u001B[49m\u001B[43mvideo\u001B[49m\u001B[43m)\u001B[49m\n",
      "Input \u001B[1;32mIn [7]\u001B[0m, in \u001B[0;36mextract_frames_from_video_cv2\u001B[1;34m(file_path, fps)\u001B[0m\n\u001B[0;32m     30\u001B[0m     \u001B[38;5;28;01mif\u001B[39;00m frame_num \u001B[38;5;241m%\u001B[39m n \u001B[38;5;241m==\u001B[39m \u001B[38;5;241m0\u001B[39m:\n\u001B[0;32m     31\u001B[0m         frame_file_path \u001B[38;5;241m=\u001B[39m os\u001B[38;5;241m.\u001B[39mpath\u001B[38;5;241m.\u001B[39mjoin(frames_dir, \u001B[38;5;124mf\u001B[39m\u001B[38;5;124m\"\u001B[39m\u001B[38;5;124mframe_\u001B[39m\u001B[38;5;132;01m{\u001B[39;00mframe_num\u001B[38;5;250m \u001B[39m\u001B[38;5;241m/\u001B[39m\u001B[38;5;241m/\u001B[39m\u001B[38;5;250m \u001B[39mn\u001B[38;5;132;01m:\u001B[39;00m\u001B[38;5;124m07d\u001B[39m\u001B[38;5;132;01m}\u001B[39;00m\u001B[38;5;124m.png\u001B[39m\u001B[38;5;124m\"\u001B[39m)\n\u001B[1;32m---> 32\u001B[0m         \u001B[43mcv2\u001B[49m\u001B[38;5;241;43m.\u001B[39;49m\u001B[43mimwrite\u001B[49m\u001B[43m(\u001B[49m\u001B[43mframe_file_path\u001B[49m\u001B[43m,\u001B[49m\u001B[43m \u001B[49m\u001B[43mframe\u001B[49m\u001B[43m)\u001B[49m\n\u001B[0;32m     33\u001B[0m     frame_num \u001B[38;5;241m+\u001B[39m\u001B[38;5;241m=\u001B[39m \u001B[38;5;241m1\u001B[39m\n\u001B[0;32m     35\u001B[0m cap\u001B[38;5;241m.\u001B[39mrelease()\n",
      "\u001B[1;31mKeyboardInterrupt\u001B[0m: "
     ]
    }
   ],
   "source": [
    "for video_path in VIDEOS_TO_PROCESS:\n",
    "    # Download the videos to local storage, but check if they exist already first\n",
    "    # download_video_from_s3(video_path)\n",
    "\n",
    "    # Clip video into 1 minute clips\n",
    "    # clip_video_imageio(video_path, output_dir=TMP_DIR, clip_length=60)\n",
    "\n",
    "    # Extract frames from clipped videos\n",
    "    for video in find_files_with_ending(TMP_DIR, '.mp4'):\n",
    "#         extract_frames_from_video_cv2(video)\n",
    "\n",
    "        # frame_nums: List[int] = get_frames_containing_ball(XML_FILE)\n",
    "        # file_names: List[str] = [get_frame_name_from_frame_number(frame_num) for frame_num in frame_nums]\n",
    "\n",
    "    # Remove images that don't contain the ball\n",
    "    # TODO: to be implemented\n"
   ]
  },
  {
   "cell_type": "code",
   "execution_count": null,
   "metadata": {},
   "outputs": [],
   "source": []
  }
 ],
 "metadata": {
  "kernelspec": {
   "display_name": "Python 3 (ipykernel)",
   "language": "python",
   "name": "python3"
  },
  "language_info": {
   "codemirror_mode": {
    "name": "ipython",
    "version": 3
   },
   "file_extension": ".py",
   "mimetype": "text/x-python",
   "name": "python",
   "nbconvert_exporter": "python",
   "pygments_lexer": "ipython3",
   "version": "3.8.5"
  }
 },
 "nbformat": 4,
 "nbformat_minor": 1
}
