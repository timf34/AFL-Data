{
 "cells": [
  {
   "cell_type": "markdown",
   "source": [
    "# Dublin AFL Preprocessing\n",
    "\n",
    "This notebook contains the code to prepare the AFL data for training, processing it from full videos hosted on S3 in Sydney, to frames that only contain the ball hosted in Dublin.\n",
    "\n",
    "We assume that we have a `.xml` file with the annotations already uploaded to S3"
   ],
   "metadata": {
    "collapsed": false
   }
  },
  {
   "cell_type": "code",
   "execution_count": null,
   "metadata": {
    "collapsed": true
   },
   "outputs": [],
   "source": [
    "# Install libraries\n",
    "!pip install opencv-python\n"
   ]
  },
  {
   "cell_type": "code",
   "execution_count": null,
   "outputs": [],
   "source": [
    "# Import libraries\n",
    "import boto3\n",
    "import cv2\n",
    "import os\n",
    "import subprocess\n",
    "\n",
    "from typing import List, Dict"
   ],
   "metadata": {
    "collapsed": false
   }
  },
  {
   "cell_type": "code",
   "execution_count": null,
   "outputs": [],
   "source": [
    "# Define constants\n",
    "AUS_AFL_BUCKET: str = \"australia-fov/\"\n",
    "DUB_AFL_BUCKET: str = \"dublin-afl-preprocessed/\"\n",
    "\n",
    "TMP_DIR: str = \"tmp\"\n",
    "\n",
    "VIDEOS_TO_PROCESS: List[str] = [\n",
    "    \"marvel/marvel-fov-3/20_08_2023/time_04_09_06_date_20_08_2023_.avi.avi\",\n",
    "    # \"marvel-fov-1\\\\20_08_2023\\\\marvel_1_time_04_09_04_date_20_08_2023_.avi\",\n",
    "    # \"marvel-fov-8\\\\26_08_2023\\\\marvel_8_time_09_09_04_date_27_08_2023_.avi\"\n",
    "]"
   ],
   "metadata": {
    "collapsed": false
   }
  },
  {
   "cell_type": "markdown",
   "source": [
    "First, let's inspect our buckets"
   ],
   "metadata": {
    "collapsed": false
   }
  },
  {
   "cell_type": "code",
   "execution_count": null,
   "outputs": [],
   "source": [
    "# Ensure that each video path exists on s3\n",
    "s3 = boto3.client('s3')\n",
    "\n",
    "print(\"Checking video paths exist on S3...\")\n",
    "for video_path in VIDEOS_TO_PROCESS:\n",
    "    try:\n",
    "        s3.head_object(Bucket=AUS_AFL_BUCKET, Key=video_path)\n",
    "        print(f\"Video {video_path} exists on S3\")\n",
    "    except:\n",
    "        print(f\"Video {video_path} does not exist on S3!\")"
   ],
   "metadata": {
    "collapsed": false
   }
  },
  {
   "cell_type": "markdown",
   "source": [
    "## Utility functions\n",
    "\n",
    "Next, we define a bunch of helper function"
   ],
   "metadata": {
    "collapsed": false
   }
  },
  {
   "cell_type": "code",
   "execution_count": null,
   "outputs": [],
   "source": [
    "import xml.etree.ElementTree as ET\n",
    "\n",
    "\n",
    "def process_cvat_annotations(annotations_file: str) -> Dict[int, List[int]]:\n",
    "\n",
    "    # Check if annotations file exists and is a .xml file\n",
    "    if not os.path.exists(annotations_file):\n",
    "        raise FileNotFoundError(\"Annotations file does not exist.\")\n",
    "    if not annotations_file.endswith(\".xml\"):\n",
    "        raise ValueError(\"Annotations file must be a .xml file.\")\n",
    "\n",
    "    annotations: Dict[int, List[int, int]] = {}\n",
    "\n",
    "    tree = ET.parse(annotations_file)\n",
    "    root = tree.getroot()\n",
    "    for child in root:\n",
    "        for subchild in child:\n",
    "            if \"frame\" in subchild.attrib:\n",
    "                frame = int(subchild.attrib['frame'])\n",
    "                x = int(float(subchild.attrib['points'].split(',')[0]))\n",
    "                y = int(float(subchild.attrib['points'].split(',')[1]))\n",
    "                annotations[frame] = [x, y]\n",
    "\n",
    "    # Sort the dictionary by key and return\n",
    "    return {k: annotations[k] for k in sorted(annotations)}\n",
    "\n",
    "\n",
    "def ensure_directory_exists(path: str) -> None:\n",
    "    \"\"\"\n",
    "    Ensures that the directory at the specified path exists.\n",
    "\n",
    "    Args:\n",
    "    path (str): Path to the directory.\n",
    "\n",
    "    Returns:\n",
    "    None\n",
    "    \"\"\"\n",
    "\n",
    "    if not os.path.exists(path):\n",
    "        print(f'Creating directory at {path}')\n",
    "        os.makedirs(path)\n",
    "    else:\n",
    "        print(f'Directory already exists at {path}')\n",
    "\n",
    "\n",
    "def create_directory(base_path: str, directory_name: str) -> str:\n",
    "    \"\"\"\n",
    "    Creates a directory inside the base_path with the specified name if it doesn't already exist.\n",
    "\n",
    "    Args:\n",
    "    base_path (str): Base path where the directory should be created.\n",
    "    directory_name (str): Name of the directory to be created.\n",
    "\n",
    "    Returns:\n",
    "    str: Path to the created directory.\n",
    "    \"\"\"\n",
    "    dir_path = os.path.join(base_path, directory_name)\n",
    "    ensure_directory_exists(dir_path)\n",
    "    return dir_path\n",
    "\n",
    "def find_files_with_ending(directory: str, file_ending: str = '.avi') -> List[str]:\n",
    "    \"\"\"\n",
    "    Find all files and subfile paths in a directory with the given file ending.\n",
    "\n",
    "    Args:\n",
    "    directory (str): Path to the directory to search in.\n",
    "    file_ending (str): Desired file ending, e.g., '.avi', '.mp4', etc.\n",
    "\n",
    "    Returns:\n",
    "    List[str]: List of paths to files with the given ending.\n",
    "    \"\"\"\n",
    "    matched_files = []\n",
    "\n",
    "    for root, dirs, files in os.walk(directory):\n",
    "        for file in files:\n",
    "            if file.endswith(file_ending):\n",
    "                matched_files.append(os.path.join(root, file))\n",
    "\n",
    "    print(f\"Found {len(matched_files)} files with ending {file_ending} in {directory}\")\n",
    "\n",
    "    return matched_files\n",
    "\n",
    "def files_exist_with_extension(directory: str, extension: str) -> bool:\n",
    "    \"\"\"\n",
    "    Check if files with the specified extension exist in the given directory.\n",
    "\n",
    "    Args:\n",
    "    directory (str): Path to the directory to search in.\n",
    "    extension (str): File extension to search for.\n",
    "\n",
    "    Returns:\n",
    "    bool: True if any files with the given extension are found, otherwise False.\n",
    "    \"\"\"\n",
    "    return any(f.endswith(extension) for f in os.listdir(directory))\n",
    "\n",
    "def mp4_files_exist(directory: str) -> bool:\n",
    "    \"\"\"Check if .mp4 files exist in the given directory.\"\"\"\n",
    "    return files_exist_with_extension(directory, '.mp4')\n",
    "\n",
    "\n",
    "def png_files_exist(directory: str) -> bool:\n",
    "    \"\"\"Check if .png files exist in the given directory.\"\"\"\n",
    "    return files_exist_with_extension(directory, '.png')\n"
   ],
   "metadata": {
    "collapsed": false
   }
  },
  {
   "cell_type": "markdown",
   "source": [
    "Next, we'll define functions that we'll use to process the videos. We will only operate on one video at a time so we don't need too much storage space locally."
   ],
   "metadata": {
    "collapsed": false
   }
  },
  {
   "cell_type": "code",
   "execution_count": null,
   "outputs": [],
   "source": [
    "\n",
    "def clip_video(video, output_dir: str, clip_length: int = 60) -> None:\n",
    "    \"\"\"\n",
    "    This function clips a video into multiple 60 second long clips.\n",
    "    We use FFmpeg directly to ensure lossless clipping.\n",
    "    \"\"\"\n",
    "\n",
    "    # Check if the output_directory exists, and if not, make it\n",
    "    ensure_directory_exists(output_dir)\n",
    "\n",
    "    # Load the video and get its length\n",
    "    cv2_video = cv2.VideoCapture(video)\n",
    "    video_length: int = int(cv2_video.get(cv2.CAP_PROP_FRAME_COUNT))\n",
    "    fps: int = int(cv2_video.get(cv2.CAP_PROP_FPS))\n",
    "\n",
    "    # Get the number of clips we need to make\n",
    "    num_clips: int = (video_length // fps) // clip_length\n",
    "\n",
    "    # Get the remainder\n",
    "    remainder: int = video_length % clip_length\n",
    "\n",
    "    # Get the start and end times for each clip\n",
    "    start_times: List[int] = [i * clip_length for i in range(num_clips)]\n",
    "\n",
    "    # If there is a remainder, add it to the end of the list\n",
    "    if remainder > 0:\n",
    "        start_times.append(num_clips * clip_length)\n",
    "\n",
    "    # Get the end times\n",
    "    end_times: List[int] = [i + clip_length for i in start_times]\n",
    "\n",
    "    # Get the output names\n",
    "    output_names: List[str] = [output_dir + \"\\\\\" + str(i) + \".mp4\" for i in range(len(start_times))]\n",
    "\n",
    "    # Clip the video\n",
    "    for i in range(len(start_times)):\n",
    "        print(f\"Clipping video {video} from {start_times[i]} to {end_times[i]}\")\n",
    "\n",
    "        # Craft the FFmpeg command for lossless clipping\n",
    "        cmd = [\n",
    "            'ffmpeg',\n",
    "            '-i', video,\n",
    "            '-ss', str(start_times[i]),\n",
    "            '-t', str(clip_length),\n",
    "            '-c:v', 'copy',\n",
    "            '-an',  # This excludes the audio. If you want to include audio, you can remove this.\n",
    "            output_names[i]\n",
    "        ]\n",
    "\n",
    "        subprocess.run(cmd)\n",
    "\n",
    "        print(f\"Finished clipping video {video} from {start_times[i]} to {end_times[i]}\")"
   ],
   "metadata": {
    "collapsed": false
   }
  },
  {
   "cell_type": "code",
   "execution_count": null,
   "outputs": [],
   "source": [
    "def extract_frames_from_video(file_path: str) -> None:\n",
    "    \"\"\"Given a .avi video file path, extract frames using ffmpeg.\"\"\"\n",
    "\n",
    "    # Create a directory called \"frames\"\n",
    "    file_name_without_extension = os.path.splitext(os.path.basename(file_path))[0]\n",
    "    file_dir = os.path.dirname(file_path)\n",
    "\n",
    "    parent_video_name = file_path.split('\\\\')[-2]\n",
    "    frames_dir = create_directory(file_dir, directory_name=f'{parent_video_name}{file_name_without_extension}')\n",
    "\n",
    "    if png_files_exist(frames_dir):\n",
    "        print(f'Frames already exist in {frames_dir}')\n",
    "        return\n",
    "\n",
    "    # Construct the ffmpeg command\n",
    "    cmd = [\n",
    "        'ffmpeg',\n",
    "        '-i', file_path,\n",
    "        '-vf', 'fps=30/1',\n",
    "        '-start_number', '0',\n",
    "        f'{frames_dir}\\\\frame_%07d.png'\n",
    "    ]\n",
    "\n",
    "    # Execute the command via subprocess\n",
    "    print(cmd)\n",
    "    subprocess.run(cmd)"
   ],
   "metadata": {
    "collapsed": false,
    "pycharm": {
     "is_executing": true
    }
   }
  },
  {
   "cell_type": "code",
   "execution_count": null,
   "outputs": [],
   "source": [
    "def download_video_from_s3(video: str, source_bucket: str):\n",
    "    \"\"\"\n",
    "    Download specified videos from the S3 bucket to local storage if they don't already exist.\n",
    "\n",
    "    Parameters:\n",
    "    - videos: List of video paths to process.\n",
    "    - source_bucket: S3 bucket where videos are stored.\n",
    "    \"\"\"\n",
    "    # Create a S3 client\n",
    "    s3 = boto3.client('s3')\n",
    "\n",
    "    local_path = video_path.replace(\"\\\\\", \"/\")\n",
    "    bucket_path = source_bucket + local_path\n",
    "\n",
    "    # Check if the file already exists in local storage\n",
    "    if not os.path.exists(local_path):\n",
    "        print(f\"Downloading {video_path}...\")\n",
    "        # Parse the bucket and object key from the S3 URL\n",
    "        bucket_name = bucket_path.split('/')[2]\n",
    "        object_key = \"/\".join(bucket_path.split('/')[3:])\n",
    "\n",
    "        # Download the file\n",
    "        with open(local_path, 'wb') as f:\n",
    "            s3.download_fileobj(bucket_name, object_key, f)\n",
    "        print(f\"{video_path} downloaded successfully!\")\n",
    "    else:\n",
    "        print(f\"{video_path} already exists in local storage!\")"
   ],
   "metadata": {
    "collapsed": false
   }
  },
  {
   "cell_type": "markdown",
   "source": [
    "## Processing time"
   ],
   "metadata": {
    "collapsed": false
   }
  },
  {
   "cell_type": "code",
   "execution_count": null,
   "outputs": [],
   "source": [
    "for video_path in VIDEOS_TO_PROCESS:\n",
    "    # Download the videos to local storage, but check if they exist already first\n",
    "    download_video_from_s3(video_path, source_bucket=AUS_AFL_BUCKET)\n",
    "\n",
    "    # Clip video into 1 minute clips\n",
    "    clip_video(video_path, output_dir=TMP_DIR, clip_length=60)\n",
    "\n",
    "    # Extract frames from clipped videos\n",
    "    for video in find_files_with_ending(TMP_DIR, '.mp4'):\n",
    "        extract_frames_from_video(video)\n",
    "\n",
    "    # Remove images that don't contain the ball\n",
    "    # TODO: to be implemented\n"
   ],
   "metadata": {
    "collapsed": false,
    "pycharm": {
     "is_executing": true
    }
   }
  },
  {
   "cell_type": "code",
   "execution_count": null,
   "outputs": [],
   "source": [],
   "metadata": {
    "collapsed": false
   }
  }
 ],
 "metadata": {
  "kernelspec": {
   "display_name": "Python 3",
   "language": "python",
   "name": "python3"
  },
  "language_info": {
   "codemirror_mode": {
    "name": "ipython",
    "version": 2
   },
   "file_extension": ".py",
   "mimetype": "text/x-python",
   "name": "python",
   "nbconvert_exporter": "python",
   "pygments_lexer": "ipython2",
   "version": "2.7.6"
  }
 },
 "nbformat": 4,
 "nbformat_minor": 0
}
