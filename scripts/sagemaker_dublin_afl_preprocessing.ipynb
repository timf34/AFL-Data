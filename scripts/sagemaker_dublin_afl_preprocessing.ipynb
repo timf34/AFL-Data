{
 "cells": [
  {
   "cell_type": "markdown",
   "source": [
    "# Dublin AFL Preprocessing\n",
    "\n",
    "This notebook contains the code to prepare the AFL data for training, processing it from full videos hosted on S3 in Sydney, to frames that only contain the ball hosted in Dublin.\n",
    "\n",
    "We assume that we have a `.xml` file with the annotations already uploaded to S3"
   ],
   "metadata": {
    "collapsed": false
   }
  },
  {
   "cell_type": "code",
   "execution_count": null,
   "outputs": [],
   "source": [
    "# Install libraries\n",
    "!pip install imageio"
   ],
   "metadata": {
    "collapsed": false
   }
  },
  {
   "cell_type": "code",
   "execution_count": null,
   "outputs": [],
   "source": [
    "# Import libraries\n",
    "import boto3\n",
    "import cv2\n",
    "import imageio\n",
    "import os\n",
    "import subprocess\n",
    "\n",
    "from typing import List, Dict\n",
    "from sagemaker_utils import *"
   ],
   "metadata": {
    "collapsed": false
   }
  },
  {
   "cell_type": "code",
   "execution_count": null,
   "outputs": [],
   "source": [
    "# Define constants\n",
    "AUS_AFL_BUCKET: str = \"australia-fov/\"\n",
    "DUB_AFL_BUCKET: str = \"dublin-afl-preprocessed/\"\n",
    "\n",
    "TMP_DIR: str = \"tmp\"\n",
    "\n",
    "VIDEOS_TO_PROCESS: List[str] = [\n",
    "    \"marvel/marvel-fov-3/20_08_2023/time_04_09_06_date_20_08_2023_.avi\",\n",
    "    # \"marvel-fov-1\\\\20_08_2023\\\\marvel_1_time_04_09_04_date_20_08_2023_.avi\",\n",
    "    # \"marvel-fov-8\\\\26_08_2023\\\\marvel_8_time_09_09_04_date_27_08_2023_.avi\"\n",
    "]"
   ],
   "metadata": {
    "collapsed": false
   }
  },
  {
   "cell_type": "markdown",
   "source": [
    "First, let's inspect our buckets"
   ],
   "metadata": {
    "collapsed": false
   }
  },
  {
   "cell_type": "code",
   "execution_count": null,
   "outputs": [],
   "source": [
    "# Ensure that each video path exists on s3\n",
    "s3 = boto3.client('s3')\n",
    "\n",
    "print(\"Checking video paths exist on S3...\")\n",
    "for video_path in VIDEOS_TO_PROCESS:\n",
    "    try:\n",
    "        s3.head_object(Bucket=AUS_AFL_BUCKET, Key=video_path)\n",
    "        print(f\"Video {video_path} exists on S3\")\n",
    "    except:\n",
    "        print(f\"Video {video_path} does not exist on S3!\")"
   ],
   "metadata": {
    "collapsed": false
   }
  },
  {
   "cell_type": "markdown",
   "source": [
    "## Utility functions\n",
    "\n",
    "Next, we define a bunch of helper function"
   ],
   "metadata": {
    "collapsed": false
   }
  },
  {
   "cell_type": "markdown",
   "source": [
    "Next, we'll define functions that we'll use to process the videos. We will only operate on one video at a time so we don't need too much storage space locally."
   ],
   "metadata": {
    "collapsed": false
   }
  },
  {
   "cell_type": "code",
   "execution_count": null,
   "outputs": [],
   "source": [
    "def clip_video_imageio(video_path: str, output_dir: str, clip_length: int = 60) -> None:\n",
    "    \"\"\"\n",
    "        Clip a video into multiple segments of the given length using imageio.\n",
    "\n",
    "        Parameters:\n",
    "        - video_path: Path to the video file.\n",
    "        - output_dir: Directory to store the clipped videos.\n",
    "        - clip_length: Duration of each clip in seconds (default is 60 seconds).\n",
    "        \"\"\"\n",
    "    reader = imageio.get_reader(video_path)\n",
    "    fps = reader.get_meta_data()['fps']\n",
    "\n",
    "    # Calculate the number of frames needed for the specified clip length\n",
    "    frames_per_clip = int(clip_length * fps)\n",
    "\n",
    "    # Create the output directory if it doesn't exist\n",
    "    ensure_directory_exists(output_dir)\n",
    "\n",
    "    num_frames = len(reader)\n",
    "\n",
    "    for start_frame in range(0, num_frames, frames_per_clip):\n",
    "        end_frame = min(start_frame + frames_per_clip, num_frames)\n",
    "\n",
    "        # Define the output file name\n",
    "        output_file = os.path.join(output_dir, f\"clip_{start_frame // frames_per_clip}.mp4\")\n",
    "\n",
    "        # Check if this clip is too short (ignores the remainder)\n",
    "        if end_frame - start_frame < clip_length * 0.5 * fps:\n",
    "            break\n",
    "\n",
    "        print(f\"Clipping video {video_path} from frame {start_frame} to {end_frame}\")\n",
    "\n",
    "        # Write the segment to a new file\n",
    "        writer = imageio.get_writer(output_file, fps=fps, macro_block_size=1)\n",
    "        for frame in range(start_frame, end_frame):\n",
    "            writer.append_data(reader.get_data(frame))\n",
    "        writer.close()\n",
    "\n",
    "        print(f\"Finished clipping video segment {output_file}\")"
   ],
   "metadata": {
    "collapsed": false
   }
  },
  {
   "cell_type": "code",
   "execution_count": null,
   "outputs": [],
   "source": [
    "def extract_frames_from_video_cv2(file_path: str, fps: int = 30) -> None:\n",
    "    \"\"\"Given a video file path, extract frames using OpenCV (imageio is too slow for this).\"\"\"\n",
    "\n",
    "    # Create a directory called \"frames\"\n",
    "    file_name_without_extension = os.path.splitext(os.path.basename(file_path))[0]\n",
    "    file_dir = os.path.dirname(file_path)\n",
    "\n",
    "    parent_video_name = file_path.split(os.sep)[-2]\n",
    "    frames_dir = create_directory(file_dir, directory_name=f'{parent_video_name}{file_name_without_extension}')\n",
    "\n",
    "    if png_files_exist(frames_dir):\n",
    "        print(f'Frames already exist in {frames_dir}')\n",
    "        return\n",
    "\n",
    "    # Use OpenCV to read the video and save frames\n",
    "    cap = cv2.VideoCapture(file_path)\n",
    "    video_fps = int(cap.get(cv2.CAP_PROP_FPS))\n",
    "\n",
    "    # We'll only save every nth frame to match the desired FPS (fps parameter)\n",
    "    n = int(video_fps / fps)\n",
    "\n",
    "    frame_num = 0\n",
    "    while True:\n",
    "        ret, frame = cap.read()\n",
    "        if not ret:\n",
    "            break\n",
    "        if frame_num % n == 0:\n",
    "            frame_file_path = os.path.join(frames_dir, f\"frame_{frame_num // n:07d}.png\")\n",
    "            cv2.imwrite(frame_file_path, frame)\n",
    "        frame_num += 1\n",
    "\n",
    "    cap.release()\n",
    "    print(f\"Frames extracted to {frames_dir}\")\n"
   ],
   "metadata": {
    "collapsed": false,
    "pycharm": {
     "is_executing": true
    }
   }
  },
  {
   "cell_type": "code",
   "execution_count": null,
   "outputs": [],
   "source": [
    "import os\n",
    "import boto3\n",
    "\n",
    "AUS_AFL_BUCKET = \"australia-fov\"\n",
    "\n",
    "def download_video_from_s3(video_path: str):\n",
    "    \"\"\"\n",
    "    Download specified videos from the S3 bucket to local storage.\n",
    "    If they already exist, ensure they have a reasonable size.\n",
    "\n",
    "    Parameters:\n",
    "    - video_path: Path of video to process.\n",
    "    \"\"\"\n",
    "    # Create a S3 client\n",
    "    s3 = boto3.client('s3')\n",
    "\n",
    "    local_path = video_path.replace(\"\\\\\", \"/\")\n",
    "\n",
    "    # Ensure the directory structure exists for the local file\n",
    "    if not os.path.exists(os.path.dirname(local_path)):\n",
    "        os.makedirs(os.path.dirname(local_path))\n",
    "\n",
    "    # Check if the file already exists in local storage\n",
    "    if os.path.exists(local_path):\n",
    "        # Check if file size is greater than 10 KB\n",
    "        if os.path.getsize(local_path) > 10 * 1024:\n",
    "            print(f\"{video_path} already exists in local storage and has a valid size!\")\n",
    "            return\n",
    "        else:\n",
    "            print(f\"{video_path} exists but is too small. Re-downloading...\")\n",
    "            os.remove(local_path)\n",
    "\n",
    "    print(f\"Downloading {video_path}...\")\n",
    "    try:\n",
    "        # Download the file\n",
    "        with open(local_path, 'wb') as f:\n",
    "            s3.download_fileobj(AUS_AFL_BUCKET, video_path, f)\n",
    "        print(f\"{video_path} downloaded successfully!\")\n",
    "        print(f\"File size in bytes: {get_file_size_in_bytes(local_path)}\")\n",
    "    except Exception as e:\n",
    "        print(f\"Error downloading {video_path}: {e}\")\n",
    "        if os.path.exists(local_path):\n",
    "            os.remove(local_path)\n"
   ],
   "metadata": {
    "collapsed": false
   }
  },
  {
   "cell_type": "markdown",
   "source": [
    "## Processing time"
   ],
   "metadata": {
    "collapsed": false
   }
  },
  {
   "cell_type": "code",
   "execution_count": null,
   "outputs": [],
   "source": [
    "for video_path in VIDEOS_TO_PROCESS:\n",
    "    # Download the videos to local storage, but check if they exist already first\n",
    "    download_video_from_s3(video_path)\n",
    "\n",
    "    # Clip video into 1 minute clips\n",
    "    clip_video_imageio(video_path, output_dir=TMP_DIR, clip_length=60)\n",
    "\n",
    "    # Extract frames from clipped videos\n",
    "    for video in find_files_with_ending(TMP_DIR, '.mp4'):\n",
    "        extract_frames_from_video_cv2(video)\n",
    "\n",
    "    # Remove images that don't contain the ball\n",
    "    # TODO: to be implemented\n"
   ],
   "metadata": {
    "collapsed": false,
    "pycharm": {
     "is_executing": true
    }
   }
  },
  {
   "cell_type": "code",
   "execution_count": null,
   "outputs": [],
   "source": [],
   "metadata": {
    "collapsed": false
   }
  }
 ],
 "metadata": {
  "kernelspec": {
   "display_name": "Python 3",
   "language": "python",
   "name": "python3"
  },
  "language_info": {
   "codemirror_mode": {
    "name": "ipython",
    "version": 2
   },
   "file_extension": ".py",
   "mimetype": "text/x-python",
   "name": "python",
   "nbconvert_exporter": "python",
   "pygments_lexer": "ipython2",
   "version": "2.7.6"
  }
 },
 "nbformat": 4,
 "nbformat_minor": 0
}
